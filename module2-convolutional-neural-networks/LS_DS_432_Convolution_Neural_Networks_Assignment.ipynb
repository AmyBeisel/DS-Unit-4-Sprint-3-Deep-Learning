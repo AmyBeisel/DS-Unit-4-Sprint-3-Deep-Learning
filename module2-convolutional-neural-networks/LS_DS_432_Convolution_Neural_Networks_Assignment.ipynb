{
  "nbformat": 4,
  "nbformat_minor": 0,
  "metadata": {
    "kernelspec": {
      "display_name": "U4-S2-NNF-DS10",
      "language": "python",
      "name": "u4-s2-nnf-ds10"
    },
    "language_info": {
      "codemirror_mode": {
        "name": "ipython",
        "version": 3
      },
      "file_extension": ".py",
      "mimetype": "text/x-python",
      "name": "python",
      "nbconvert_exporter": "python",
      "pygments_lexer": "ipython3",
      "version": "3.7.6"
    },
    "nteract": {
      "version": "0.23.1"
    },
    "colab": {
      "name": "LS_DS_432_Convolution_Neural_Networks_Assignment.ipynb",
      "provenance": [],
      "include_colab_link": true
    },
    "accelerator": "GPU"
  },
  "cells": [
    {
      "cell_type": "markdown",
      "metadata": {
        "id": "view-in-github",
        "colab_type": "text"
      },
      "source": [
        "<a href=\"https://colab.research.google.com/github/AmyBeisel/DS-Unit-4-Sprint-3-Deep-Learning/blob/master/module2-convolutional-neural-networks/LS_DS_432_Convolution_Neural_Networks_Assignment.ipynb\" target=\"_parent\"><img src=\"https://colab.research.google.com/assets/colab-badge.svg\" alt=\"Open In Colab\"/></a>"
      ]
    },
    {
      "cell_type": "markdown",
      "metadata": {
        "id": "1ZlBIAPbdEsp",
        "colab_type": "text"
      },
      "source": [
        "<img align=\"left\" src=\"https://lever-client-logos.s3.amazonaws.com/864372b1-534c-480e-acd5-9711f850815c-1524247202159.png\" width=200>\n",
        "<br></br>\n",
        "<br></br>\n",
        "\n",
        "## *Data Science Unit 4 Sprint 3 Assignment 2*\n",
        "# Convolutional Neural Networks (CNNs)"
      ]
    },
    {
      "cell_type": "markdown",
      "metadata": {
        "colab_type": "text",
        "id": "0lfZdD_cp1t5"
      },
      "source": [
        "# Assignment\n",
        "\n",
        "- <a href=\"#p1\">Part 1:</a> Pre-Trained Model\n",
        "- <a href=\"#p2\">Part 2:</a> Custom CNN Model\n",
        "- <a href=\"#p3\">Part 3:</a> CNN with Data Augmentation\n",
        "\n",
        "\n",
        "You will apply three different CNN models to a binary image classification model using Keras. Classify images of Mountains (`./data/train/mountain/*`) and images of forests (`./data/train/forest/*`). Treat mountains as the positive class (1) and the forest images as the negative (zero). \n",
        "\n",
        "|Mountain (+)|Forest (-)|\n",
        "|---|---|\n",
        "|![](./data/train/mountain/art1131.jpg)|![](./data/validation/forest/cdmc317.jpg)|\n",
        "\n",
        "The problem is relatively difficult given that the sample is tiny: there are about 350 observations per class. This sample size might be something that you can expect with prototyping an image classification problem/solution at work. Get accustomed to evaluating several different possible models."
      ]
    },
    {
      "cell_type": "markdown",
      "metadata": {
        "colab_type": "text",
        "id": "SzKwBLEkdEsr"
      },
      "source": [
        "# Pre - Trained Model\n",
        "<a id=\"p1\"></a>\n",
        "\n",
        "Load a pretrained network from Keras, [ResNet50](https://tfhub.dev/google/imagenet/resnet_v1_50/classification/1) - a 50 layer deep network trained to recognize [1000 objects](https://storage.googleapis.com/download.tensorflow.org/data/ImageNetLabels.txt). Starting usage:\n",
        "\n",
        "```python\n",
        "import numpy as np\n",
        "\n",
        "from tensorflow.keras.applications.resnet50 import ResNet50\n",
        "from tensorflow.keras.preprocessing import image\n",
        "from tensorflow.keras.applications.resnet50 import preprocess_input, decode_predictions\n",
        "\n",
        "from tensorflow.keras.layers import Dense, GlobalAveragePooling2D\n",
        "from tensorflow.keras.models import Model # This is the functional API\n",
        "\n",
        "resnet = ResNet50(weights='imagenet', include_top=False)\n",
        "\n",
        "```\n",
        "\n",
        "The `include_top` parameter in `ResNet50` will remove the full connected layers from the ResNet model. The next step is to turn off the training of the ResNet layers. We want to use the learned parameters without updating them in future training passes. \n",
        "\n",
        "```python\n",
        "for layer in resnet.layers:\n",
        "    layer.trainable = False\n",
        "```\n",
        "\n",
        "Using the Keras functional API, we will need to additional additional full connected layers to our model. We we removed the top layers, we removed all preivous fully connected layers. In other words, we kept only the feature processing portions of our network. You can expert with additional layers beyond what's listed here. The `GlobalAveragePooling2D` layer functions as a really fancy flatten function by taking the average of each of the last convolutional layer outputs (which is two dimensional still). \n",
        "\n",
        "```python\n",
        "x = resnet.output\n",
        "x = GlobalAveragePooling2D()(x) # This layer is a really fancy flatten\n",
        "x = Dense(1024, activation='relu')(x)\n",
        "predictions = Dense(1, activation='sigmoid')(x)\n",
        "model = Model(resnet.input, predictions)\n",
        "```\n",
        "\n",
        "Your assignment is to apply the transfer learning above to classify images of Mountains (`./data/train/mountain/*`) and images of forests (`./data/train/forest/*`). Treat mountains as the positive class (1) and the forest images as the negative (zero). \n",
        "\n",
        "Steps to complete assignment: \n",
        "1. Load in Image Data into numpy arrays (`X`) \n",
        "2. Create a `y` for the labels\n",
        "3. Train your model with pre-trained layers from resnet\n",
        "4. Report your model's accuracy"
      ]
    },
    {
      "cell_type": "markdown",
      "metadata": {
        "id": "2Eg25GzAdEss",
        "colab_type": "text"
      },
      "source": [
        "## Load in Data\n",
        "\n",
        "This surprisingly more difficult than it seems, because you are working with directories of images instead of a single file. This boiler plate will help you download a zipped version of the directory of images. The directory is organized into \"train\" and \"validation\" which you can use inside an `ImageGenerator` class to stream batches of images thru your model.  \n"
      ]
    },
    {
      "cell_type": "markdown",
      "metadata": {
        "id": "sH4LFRY1dEst",
        "colab_type": "text"
      },
      "source": [
        "### Download & Summarize the Data\n",
        "\n",
        "This step is completed for you. Just run the cells and review the results. "
      ]
    },
    {
      "cell_type": "code",
      "metadata": {
        "id": "QrT3Lh0rdEst",
        "colab_type": "code",
        "colab": {
          "base_uri": "https://localhost:8080/",
          "height": 72
        },
        "outputId": "56073947-c77c-4282-ad93-6c1529e08507"
      },
      "source": [
        "import tensorflow as tf\n",
        "import os\n",
        "\n",
        "_URL = 'https://github.com/LambdaSchool/DS-Unit-4-Sprint-3-Deep-Learning/blob/master/module2-convolutional-neural-networks/data.zip?raw=true'\n",
        "\n",
        "path_to_zip = tf.keras.utils.get_file('./data.zip', origin=_URL, extract=True)\n",
        "PATH = os.path.join(os.path.dirname(path_to_zip), 'data')"
      ],
      "execution_count": 1,
      "outputs": [
        {
          "output_type": "stream",
          "text": [
            "Downloading data from https://github.com/LambdaSchool/DS-Unit-4-Sprint-3-Deep-Learning/blob/master/module2-convolutional-neural-networks/data.zip?raw=true\n",
            "42172416/42170838 [==============================] - 0s 0us/step\n"
          ],
          "name": "stdout"
        }
      ]
    },
    {
      "cell_type": "code",
      "metadata": {
        "id": "XFs-V4C5dEsy",
        "colab_type": "code",
        "colab": {}
      },
      "source": [
        "train_dir = os.path.join(PATH, 'train')\n",
        "validation_dir = os.path.join(PATH, 'validation')"
      ],
      "execution_count": 0,
      "outputs": []
    },
    {
      "cell_type": "code",
      "metadata": {
        "id": "c5mk9_LLdEs1",
        "colab_type": "code",
        "colab": {}
      },
      "source": [
        "train_mountain_dir = os.path.join(train_dir, 'mountain')  # directory with our training mountains pictures\n",
        "train_forest_dir = os.path.join(train_dir, 'forest')  # directory with our training forest pictures\n",
        "validation_mountain_dir = os.path.join(validation_dir, 'mountain')  # directory with our validation mountain pictures\n",
        "validation_forest_dir = os.path.join(validation_dir, 'forest')  # directory with our validation forest pictures"
      ],
      "execution_count": 0,
      "outputs": []
    },
    {
      "cell_type": "code",
      "metadata": {
        "id": "-Nj-M_WRdEs5",
        "colab_type": "code",
        "colab": {}
      },
      "source": [
        "num_mountain_tr = len(os.listdir(train_mountain_dir))\n",
        "num_forest_tr = len(os.listdir(train_forest_dir))\n",
        "\n",
        "num_mountain_val = len(os.listdir(validation_mountain_dir))\n",
        "num_forest_val = len(os.listdir(validation_forest_dir))\n",
        "\n",
        "total_train = num_mountain_tr + num_forest_tr\n",
        "total_val = num_mountain_val + num_forest_val"
      ],
      "execution_count": 0,
      "outputs": []
    },
    {
      "cell_type": "code",
      "metadata": {
        "id": "8xyi1I-ZdEs8",
        "colab_type": "code",
        "colab": {
          "base_uri": "https://localhost:8080/",
          "height": 138
        },
        "outputId": "67895965-2906-4d8a-a3d3-90108b1bb9de"
      },
      "source": [
        "print('total training mountain images:', num_mountain_tr)\n",
        "print('total training forest images:', num_forest_tr)\n",
        "\n",
        "print('total validation mountain images:', num_mountain_val)\n",
        "print('total validation forest images:', num_forest_val)\n",
        "print(\"--\")\n",
        "print(\"Total training images:\", total_train)\n",
        "print(\"Total validation images:\", total_val)"
      ],
      "execution_count": 5,
      "outputs": [
        {
          "output_type": "stream",
          "text": [
            "total training mountain images: 254\n",
            "total training forest images: 270\n",
            "total validation mountain images: 125\n",
            "total validation forest images: 62\n",
            "--\n",
            "Total training images: 524\n",
            "Total validation images: 187\n"
          ],
          "name": "stdout"
        }
      ]
    },
    {
      "cell_type": "markdown",
      "metadata": {
        "id": "xfD-9ix4dEs_",
        "colab_type": "text"
      },
      "source": [
        "### Keras `ImageGenerator` to Process the Data\n",
        "\n",
        "This step is completed for you, but please review the code. The `ImageGenerator` class reads in batches of data from a directory and pass them to the model one batch at a time. Just like large text files, this method is advantageous, because it stifles the need to load a bunch of images into memory. \n",
        "\n",
        "Check out the documentation for this class method: [Keras `ImageGenerator` Class](https://keras.io/preprocessing/image/#imagedatagenerator-class). You'll expand it's use in the third assignment objective."
      ]
    },
    {
      "cell_type": "code",
      "metadata": {
        "id": "Om4CQzj9dEs_",
        "colab_type": "code",
        "colab": {}
      },
      "source": [
        "batch_size = 16\n",
        "epochs = 50\n",
        "IMG_HEIGHT = 224\n",
        "IMG_WIDTH = 224"
      ],
      "execution_count": 0,
      "outputs": []
    },
    {
      "cell_type": "code",
      "metadata": {
        "id": "eUKCLOR9dEtD",
        "colab_type": "code",
        "colab": {}
      },
      "source": [
        "from tensorflow.keras.preprocessing.image import ImageDataGenerator\n",
        "\n",
        "train_image_generator = ImageDataGenerator(rescale=1./255) # Generator for our training data\n",
        "validation_image_generator = ImageDataGenerator(rescale=1./255) # Generator for our validation data"
      ],
      "execution_count": 0,
      "outputs": []
    },
    {
      "cell_type": "code",
      "metadata": {
        "id": "Z2cPAPuFdEtG",
        "colab_type": "code",
        "colab": {
          "base_uri": "https://localhost:8080/",
          "height": 35
        },
        "outputId": "9c8802b9-0207-4d8e-bbb2-24f386eb2a6f"
      },
      "source": [
        "train_data_gen = train_image_generator.flow_from_directory(batch_size=batch_size,\n",
        "                                                           directory=train_dir,\n",
        "                                                           shuffle=True,\n",
        "                                                           target_size=(IMG_HEIGHT, IMG_WIDTH),\n",
        "                                                           class_mode='binary')"
      ],
      "execution_count": 8,
      "outputs": [
        {
          "output_type": "stream",
          "text": [
            "Found 533 images belonging to 2 classes.\n"
          ],
          "name": "stdout"
        }
      ]
    },
    {
      "cell_type": "code",
      "metadata": {
        "id": "nP-9GDLFdEtL",
        "colab_type": "code",
        "colab": {
          "base_uri": "https://localhost:8080/",
          "height": 35
        },
        "outputId": "d875e4d3-4bf8-4698-f761-ef532e783c0c"
      },
      "source": [
        "val_data_gen = validation_image_generator.flow_from_directory(batch_size=batch_size,\n",
        "                                                              directory=validation_dir,\n",
        "                                                              target_size=(IMG_HEIGHT, IMG_WIDTH),\n",
        "                                                              class_mode='binary')"
      ],
      "execution_count": 9,
      "outputs": [
        {
          "output_type": "stream",
          "text": [
            "Found 195 images belonging to 2 classes.\n"
          ],
          "name": "stdout"
        }
      ]
    },
    {
      "cell_type": "markdown",
      "metadata": {
        "id": "GRaJ2BNFdEtO",
        "colab_type": "text"
      },
      "source": [
        "## Instatiate Model"
      ]
    },
    {
      "cell_type": "code",
      "metadata": {
        "id": "HeM14GUYDv9a",
        "colab_type": "code",
        "colab": {
          "base_uri": "https://localhost:8080/",
          "height": 72
        },
        "outputId": "061ad3df-ae00-4f85-f93b-70685ab82696"
      },
      "source": [
        "from tensorflow.keras.models import Sequential, Model\n",
        "from tensorflow.keras.layers import Dense, Conv2D, MaxPooling2D, Flatten\n",
        "from tensorflow.keras.applications.resnet50 import ResNet50\n",
        "from tensorflow.keras.layers import Dense, GlobalAveragePooling2D\n",
        "from tensorflow.keras.models import Model # This is the functional API\n",
        "\n",
        "resnet = ResNet50(weights='imagenet', include_top=False)"
      ],
      "execution_count": 10,
      "outputs": [
        {
          "output_type": "stream",
          "text": [
            "Downloading data from https://storage.googleapis.com/tensorflow/keras-applications/resnet/resnet50_weights_tf_dim_ordering_tf_kernels_notop.h5\n",
            "94773248/94765736 [==============================] - 2s 0us/step\n"
          ],
          "name": "stdout"
        }
      ]
    },
    {
      "cell_type": "code",
      "metadata": {
        "id": "ZlX3NSdGLdUH",
        "colab_type": "code",
        "colab": {}
      },
      "source": [
        "for layer in resnet.layers:\n",
        "    layer.trainable = False"
      ],
      "execution_count": 0,
      "outputs": []
    },
    {
      "cell_type": "code",
      "metadata": {
        "id": "trSYgcy8LdfX",
        "colab_type": "code",
        "colab": {}
      },
      "source": [
        "# Setup Architecture\n",
        "x = resnet.output\n",
        "x = GlobalAveragePooling2D()(x) # This layer is a really fancy flatten\n",
        "x = Dense(1024, activation='relu')(x)\n",
        "predictions = Dense(1, activation='sigmoid')(x)\n",
        "model = Model(resnet.input, predictions)"
      ],
      "execution_count": 0,
      "outputs": []
    },
    {
      "cell_type": "code",
      "metadata": {
        "id": "CcMCwlYoMQcN",
        "colab_type": "code",
        "colab": {
          "base_uri": "https://localhost:8080/",
          "height": 1000
        },
        "outputId": "7771bb30-a420-49e5-ac78-aa043ee46d62"
      },
      "source": [
        "# Compile Model\n",
        "model.compile(optimizer='adam',\n",
        "              loss='binary_crossentropy',\n",
        "              metrics=['accuracy'])\n",
        "# Print summary\n",
        "model.summary()"
      ],
      "execution_count": 13,
      "outputs": [
        {
          "output_type": "stream",
          "text": [
            "Model: \"model\"\n",
            "__________________________________________________________________________________________________\n",
            "Layer (type)                    Output Shape         Param #     Connected to                     \n",
            "==================================================================================================\n",
            "input_1 (InputLayer)            [(None, None, None,  0                                            \n",
            "__________________________________________________________________________________________________\n",
            "conv1_pad (ZeroPadding2D)       (None, None, None, 3 0           input_1[0][0]                    \n",
            "__________________________________________________________________________________________________\n",
            "conv1_conv (Conv2D)             (None, None, None, 6 9472        conv1_pad[0][0]                  \n",
            "__________________________________________________________________________________________________\n",
            "conv1_bn (BatchNormalization)   (None, None, None, 6 256         conv1_conv[0][0]                 \n",
            "__________________________________________________________________________________________________\n",
            "conv1_relu (Activation)         (None, None, None, 6 0           conv1_bn[0][0]                   \n",
            "__________________________________________________________________________________________________\n",
            "pool1_pad (ZeroPadding2D)       (None, None, None, 6 0           conv1_relu[0][0]                 \n",
            "__________________________________________________________________________________________________\n",
            "pool1_pool (MaxPooling2D)       (None, None, None, 6 0           pool1_pad[0][0]                  \n",
            "__________________________________________________________________________________________________\n",
            "conv2_block1_1_conv (Conv2D)    (None, None, None, 6 4160        pool1_pool[0][0]                 \n",
            "__________________________________________________________________________________________________\n",
            "conv2_block1_1_bn (BatchNormali (None, None, None, 6 256         conv2_block1_1_conv[0][0]        \n",
            "__________________________________________________________________________________________________\n",
            "conv2_block1_1_relu (Activation (None, None, None, 6 0           conv2_block1_1_bn[0][0]          \n",
            "__________________________________________________________________________________________________\n",
            "conv2_block1_2_conv (Conv2D)    (None, None, None, 6 36928       conv2_block1_1_relu[0][0]        \n",
            "__________________________________________________________________________________________________\n",
            "conv2_block1_2_bn (BatchNormali (None, None, None, 6 256         conv2_block1_2_conv[0][0]        \n",
            "__________________________________________________________________________________________________\n",
            "conv2_block1_2_relu (Activation (None, None, None, 6 0           conv2_block1_2_bn[0][0]          \n",
            "__________________________________________________________________________________________________\n",
            "conv2_block1_0_conv (Conv2D)    (None, None, None, 2 16640       pool1_pool[0][0]                 \n",
            "__________________________________________________________________________________________________\n",
            "conv2_block1_3_conv (Conv2D)    (None, None, None, 2 16640       conv2_block1_2_relu[0][0]        \n",
            "__________________________________________________________________________________________________\n",
            "conv2_block1_0_bn (BatchNormali (None, None, None, 2 1024        conv2_block1_0_conv[0][0]        \n",
            "__________________________________________________________________________________________________\n",
            "conv2_block1_3_bn (BatchNormali (None, None, None, 2 1024        conv2_block1_3_conv[0][0]        \n",
            "__________________________________________________________________________________________________\n",
            "conv2_block1_add (Add)          (None, None, None, 2 0           conv2_block1_0_bn[0][0]          \n",
            "                                                                 conv2_block1_3_bn[0][0]          \n",
            "__________________________________________________________________________________________________\n",
            "conv2_block1_out (Activation)   (None, None, None, 2 0           conv2_block1_add[0][0]           \n",
            "__________________________________________________________________________________________________\n",
            "conv2_block2_1_conv (Conv2D)    (None, None, None, 6 16448       conv2_block1_out[0][0]           \n",
            "__________________________________________________________________________________________________\n",
            "conv2_block2_1_bn (BatchNormali (None, None, None, 6 256         conv2_block2_1_conv[0][0]        \n",
            "__________________________________________________________________________________________________\n",
            "conv2_block2_1_relu (Activation (None, None, None, 6 0           conv2_block2_1_bn[0][0]          \n",
            "__________________________________________________________________________________________________\n",
            "conv2_block2_2_conv (Conv2D)    (None, None, None, 6 36928       conv2_block2_1_relu[0][0]        \n",
            "__________________________________________________________________________________________________\n",
            "conv2_block2_2_bn (BatchNormali (None, None, None, 6 256         conv2_block2_2_conv[0][0]        \n",
            "__________________________________________________________________________________________________\n",
            "conv2_block2_2_relu (Activation (None, None, None, 6 0           conv2_block2_2_bn[0][0]          \n",
            "__________________________________________________________________________________________________\n",
            "conv2_block2_3_conv (Conv2D)    (None, None, None, 2 16640       conv2_block2_2_relu[0][0]        \n",
            "__________________________________________________________________________________________________\n",
            "conv2_block2_3_bn (BatchNormali (None, None, None, 2 1024        conv2_block2_3_conv[0][0]        \n",
            "__________________________________________________________________________________________________\n",
            "conv2_block2_add (Add)          (None, None, None, 2 0           conv2_block1_out[0][0]           \n",
            "                                                                 conv2_block2_3_bn[0][0]          \n",
            "__________________________________________________________________________________________________\n",
            "conv2_block2_out (Activation)   (None, None, None, 2 0           conv2_block2_add[0][0]           \n",
            "__________________________________________________________________________________________________\n",
            "conv2_block3_1_conv (Conv2D)    (None, None, None, 6 16448       conv2_block2_out[0][0]           \n",
            "__________________________________________________________________________________________________\n",
            "conv2_block3_1_bn (BatchNormali (None, None, None, 6 256         conv2_block3_1_conv[0][0]        \n",
            "__________________________________________________________________________________________________\n",
            "conv2_block3_1_relu (Activation (None, None, None, 6 0           conv2_block3_1_bn[0][0]          \n",
            "__________________________________________________________________________________________________\n",
            "conv2_block3_2_conv (Conv2D)    (None, None, None, 6 36928       conv2_block3_1_relu[0][0]        \n",
            "__________________________________________________________________________________________________\n",
            "conv2_block3_2_bn (BatchNormali (None, None, None, 6 256         conv2_block3_2_conv[0][0]        \n",
            "__________________________________________________________________________________________________\n",
            "conv2_block3_2_relu (Activation (None, None, None, 6 0           conv2_block3_2_bn[0][0]          \n",
            "__________________________________________________________________________________________________\n",
            "conv2_block3_3_conv (Conv2D)    (None, None, None, 2 16640       conv2_block3_2_relu[0][0]        \n",
            "__________________________________________________________________________________________________\n",
            "conv2_block3_3_bn (BatchNormali (None, None, None, 2 1024        conv2_block3_3_conv[0][0]        \n",
            "__________________________________________________________________________________________________\n",
            "conv2_block3_add (Add)          (None, None, None, 2 0           conv2_block2_out[0][0]           \n",
            "                                                                 conv2_block3_3_bn[0][0]          \n",
            "__________________________________________________________________________________________________\n",
            "conv2_block3_out (Activation)   (None, None, None, 2 0           conv2_block3_add[0][0]           \n",
            "__________________________________________________________________________________________________\n",
            "conv3_block1_1_conv (Conv2D)    (None, None, None, 1 32896       conv2_block3_out[0][0]           \n",
            "__________________________________________________________________________________________________\n",
            "conv3_block1_1_bn (BatchNormali (None, None, None, 1 512         conv3_block1_1_conv[0][0]        \n",
            "__________________________________________________________________________________________________\n",
            "conv3_block1_1_relu (Activation (None, None, None, 1 0           conv3_block1_1_bn[0][0]          \n",
            "__________________________________________________________________________________________________\n",
            "conv3_block1_2_conv (Conv2D)    (None, None, None, 1 147584      conv3_block1_1_relu[0][0]        \n",
            "__________________________________________________________________________________________________\n",
            "conv3_block1_2_bn (BatchNormali (None, None, None, 1 512         conv3_block1_2_conv[0][0]        \n",
            "__________________________________________________________________________________________________\n",
            "conv3_block1_2_relu (Activation (None, None, None, 1 0           conv3_block1_2_bn[0][0]          \n",
            "__________________________________________________________________________________________________\n",
            "conv3_block1_0_conv (Conv2D)    (None, None, None, 5 131584      conv2_block3_out[0][0]           \n",
            "__________________________________________________________________________________________________\n",
            "conv3_block1_3_conv (Conv2D)    (None, None, None, 5 66048       conv3_block1_2_relu[0][0]        \n",
            "__________________________________________________________________________________________________\n",
            "conv3_block1_0_bn (BatchNormali (None, None, None, 5 2048        conv3_block1_0_conv[0][0]        \n",
            "__________________________________________________________________________________________________\n",
            "conv3_block1_3_bn (BatchNormali (None, None, None, 5 2048        conv3_block1_3_conv[0][0]        \n",
            "__________________________________________________________________________________________________\n",
            "conv3_block1_add (Add)          (None, None, None, 5 0           conv3_block1_0_bn[0][0]          \n",
            "                                                                 conv3_block1_3_bn[0][0]          \n",
            "__________________________________________________________________________________________________\n",
            "conv3_block1_out (Activation)   (None, None, None, 5 0           conv3_block1_add[0][0]           \n",
            "__________________________________________________________________________________________________\n",
            "conv3_block2_1_conv (Conv2D)    (None, None, None, 1 65664       conv3_block1_out[0][0]           \n",
            "__________________________________________________________________________________________________\n",
            "conv3_block2_1_bn (BatchNormali (None, None, None, 1 512         conv3_block2_1_conv[0][0]        \n",
            "__________________________________________________________________________________________________\n",
            "conv3_block2_1_relu (Activation (None, None, None, 1 0           conv3_block2_1_bn[0][0]          \n",
            "__________________________________________________________________________________________________\n",
            "conv3_block2_2_conv (Conv2D)    (None, None, None, 1 147584      conv3_block2_1_relu[0][0]        \n",
            "__________________________________________________________________________________________________\n",
            "conv3_block2_2_bn (BatchNormali (None, None, None, 1 512         conv3_block2_2_conv[0][0]        \n",
            "__________________________________________________________________________________________________\n",
            "conv3_block2_2_relu (Activation (None, None, None, 1 0           conv3_block2_2_bn[0][0]          \n",
            "__________________________________________________________________________________________________\n",
            "conv3_block2_3_conv (Conv2D)    (None, None, None, 5 66048       conv3_block2_2_relu[0][0]        \n",
            "__________________________________________________________________________________________________\n",
            "conv3_block2_3_bn (BatchNormali (None, None, None, 5 2048        conv3_block2_3_conv[0][0]        \n",
            "__________________________________________________________________________________________________\n",
            "conv3_block2_add (Add)          (None, None, None, 5 0           conv3_block1_out[0][0]           \n",
            "                                                                 conv3_block2_3_bn[0][0]          \n",
            "__________________________________________________________________________________________________\n",
            "conv3_block2_out (Activation)   (None, None, None, 5 0           conv3_block2_add[0][0]           \n",
            "__________________________________________________________________________________________________\n",
            "conv3_block3_1_conv (Conv2D)    (None, None, None, 1 65664       conv3_block2_out[0][0]           \n",
            "__________________________________________________________________________________________________\n",
            "conv3_block3_1_bn (BatchNormali (None, None, None, 1 512         conv3_block3_1_conv[0][0]        \n",
            "__________________________________________________________________________________________________\n",
            "conv3_block3_1_relu (Activation (None, None, None, 1 0           conv3_block3_1_bn[0][0]          \n",
            "__________________________________________________________________________________________________\n",
            "conv3_block3_2_conv (Conv2D)    (None, None, None, 1 147584      conv3_block3_1_relu[0][0]        \n",
            "__________________________________________________________________________________________________\n",
            "conv3_block3_2_bn (BatchNormali (None, None, None, 1 512         conv3_block3_2_conv[0][0]        \n",
            "__________________________________________________________________________________________________\n",
            "conv3_block3_2_relu (Activation (None, None, None, 1 0           conv3_block3_2_bn[0][0]          \n",
            "__________________________________________________________________________________________________\n",
            "conv3_block3_3_conv (Conv2D)    (None, None, None, 5 66048       conv3_block3_2_relu[0][0]        \n",
            "__________________________________________________________________________________________________\n",
            "conv3_block3_3_bn (BatchNormali (None, None, None, 5 2048        conv3_block3_3_conv[0][0]        \n",
            "__________________________________________________________________________________________________\n",
            "conv3_block3_add (Add)          (None, None, None, 5 0           conv3_block2_out[0][0]           \n",
            "                                                                 conv3_block3_3_bn[0][0]          \n",
            "__________________________________________________________________________________________________\n",
            "conv3_block3_out (Activation)   (None, None, None, 5 0           conv3_block3_add[0][0]           \n",
            "__________________________________________________________________________________________________\n",
            "conv3_block4_1_conv (Conv2D)    (None, None, None, 1 65664       conv3_block3_out[0][0]           \n",
            "__________________________________________________________________________________________________\n",
            "conv3_block4_1_bn (BatchNormali (None, None, None, 1 512         conv3_block4_1_conv[0][0]        \n",
            "__________________________________________________________________________________________________\n",
            "conv3_block4_1_relu (Activation (None, None, None, 1 0           conv3_block4_1_bn[0][0]          \n",
            "__________________________________________________________________________________________________\n",
            "conv3_block4_2_conv (Conv2D)    (None, None, None, 1 147584      conv3_block4_1_relu[0][0]        \n",
            "__________________________________________________________________________________________________\n",
            "conv3_block4_2_bn (BatchNormali (None, None, None, 1 512         conv3_block4_2_conv[0][0]        \n",
            "__________________________________________________________________________________________________\n",
            "conv3_block4_2_relu (Activation (None, None, None, 1 0           conv3_block4_2_bn[0][0]          \n",
            "__________________________________________________________________________________________________\n",
            "conv3_block4_3_conv (Conv2D)    (None, None, None, 5 66048       conv3_block4_2_relu[0][0]        \n",
            "__________________________________________________________________________________________________\n",
            "conv3_block4_3_bn (BatchNormali (None, None, None, 5 2048        conv3_block4_3_conv[0][0]        \n",
            "__________________________________________________________________________________________________\n",
            "conv3_block4_add (Add)          (None, None, None, 5 0           conv3_block3_out[0][0]           \n",
            "                                                                 conv3_block4_3_bn[0][0]          \n",
            "__________________________________________________________________________________________________\n",
            "conv3_block4_out (Activation)   (None, None, None, 5 0           conv3_block4_add[0][0]           \n",
            "__________________________________________________________________________________________________\n",
            "conv4_block1_1_conv (Conv2D)    (None, None, None, 2 131328      conv3_block4_out[0][0]           \n",
            "__________________________________________________________________________________________________\n",
            "conv4_block1_1_bn (BatchNormali (None, None, None, 2 1024        conv4_block1_1_conv[0][0]        \n",
            "__________________________________________________________________________________________________\n",
            "conv4_block1_1_relu (Activation (None, None, None, 2 0           conv4_block1_1_bn[0][0]          \n",
            "__________________________________________________________________________________________________\n",
            "conv4_block1_2_conv (Conv2D)    (None, None, None, 2 590080      conv4_block1_1_relu[0][0]        \n",
            "__________________________________________________________________________________________________\n",
            "conv4_block1_2_bn (BatchNormali (None, None, None, 2 1024        conv4_block1_2_conv[0][0]        \n",
            "__________________________________________________________________________________________________\n",
            "conv4_block1_2_relu (Activation (None, None, None, 2 0           conv4_block1_2_bn[0][0]          \n",
            "__________________________________________________________________________________________________\n",
            "conv4_block1_0_conv (Conv2D)    (None, None, None, 1 525312      conv3_block4_out[0][0]           \n",
            "__________________________________________________________________________________________________\n",
            "conv4_block1_3_conv (Conv2D)    (None, None, None, 1 263168      conv4_block1_2_relu[0][0]        \n",
            "__________________________________________________________________________________________________\n",
            "conv4_block1_0_bn (BatchNormali (None, None, None, 1 4096        conv4_block1_0_conv[0][0]        \n",
            "__________________________________________________________________________________________________\n",
            "conv4_block1_3_bn (BatchNormali (None, None, None, 1 4096        conv4_block1_3_conv[0][0]        \n",
            "__________________________________________________________________________________________________\n",
            "conv4_block1_add (Add)          (None, None, None, 1 0           conv4_block1_0_bn[0][0]          \n",
            "                                                                 conv4_block1_3_bn[0][0]          \n",
            "__________________________________________________________________________________________________\n",
            "conv4_block1_out (Activation)   (None, None, None, 1 0           conv4_block1_add[0][0]           \n",
            "__________________________________________________________________________________________________\n",
            "conv4_block2_1_conv (Conv2D)    (None, None, None, 2 262400      conv4_block1_out[0][0]           \n",
            "__________________________________________________________________________________________________\n",
            "conv4_block2_1_bn (BatchNormali (None, None, None, 2 1024        conv4_block2_1_conv[0][0]        \n",
            "__________________________________________________________________________________________________\n",
            "conv4_block2_1_relu (Activation (None, None, None, 2 0           conv4_block2_1_bn[0][0]          \n",
            "__________________________________________________________________________________________________\n",
            "conv4_block2_2_conv (Conv2D)    (None, None, None, 2 590080      conv4_block2_1_relu[0][0]        \n",
            "__________________________________________________________________________________________________\n",
            "conv4_block2_2_bn (BatchNormali (None, None, None, 2 1024        conv4_block2_2_conv[0][0]        \n",
            "__________________________________________________________________________________________________\n",
            "conv4_block2_2_relu (Activation (None, None, None, 2 0           conv4_block2_2_bn[0][0]          \n",
            "__________________________________________________________________________________________________\n",
            "conv4_block2_3_conv (Conv2D)    (None, None, None, 1 263168      conv4_block2_2_relu[0][0]        \n",
            "__________________________________________________________________________________________________\n",
            "conv4_block2_3_bn (BatchNormali (None, None, None, 1 4096        conv4_block2_3_conv[0][0]        \n",
            "__________________________________________________________________________________________________\n",
            "conv4_block2_add (Add)          (None, None, None, 1 0           conv4_block1_out[0][0]           \n",
            "                                                                 conv4_block2_3_bn[0][0]          \n",
            "__________________________________________________________________________________________________\n",
            "conv4_block2_out (Activation)   (None, None, None, 1 0           conv4_block2_add[0][0]           \n",
            "__________________________________________________________________________________________________\n",
            "conv4_block3_1_conv (Conv2D)    (None, None, None, 2 262400      conv4_block2_out[0][0]           \n",
            "__________________________________________________________________________________________________\n",
            "conv4_block3_1_bn (BatchNormali (None, None, None, 2 1024        conv4_block3_1_conv[0][0]        \n",
            "__________________________________________________________________________________________________\n",
            "conv4_block3_1_relu (Activation (None, None, None, 2 0           conv4_block3_1_bn[0][0]          \n",
            "__________________________________________________________________________________________________\n",
            "conv4_block3_2_conv (Conv2D)    (None, None, None, 2 590080      conv4_block3_1_relu[0][0]        \n",
            "__________________________________________________________________________________________________\n",
            "conv4_block3_2_bn (BatchNormali (None, None, None, 2 1024        conv4_block3_2_conv[0][0]        \n",
            "__________________________________________________________________________________________________\n",
            "conv4_block3_2_relu (Activation (None, None, None, 2 0           conv4_block3_2_bn[0][0]          \n",
            "__________________________________________________________________________________________________\n",
            "conv4_block3_3_conv (Conv2D)    (None, None, None, 1 263168      conv4_block3_2_relu[0][0]        \n",
            "__________________________________________________________________________________________________\n",
            "conv4_block3_3_bn (BatchNormali (None, None, None, 1 4096        conv4_block3_3_conv[0][0]        \n",
            "__________________________________________________________________________________________________\n",
            "conv4_block3_add (Add)          (None, None, None, 1 0           conv4_block2_out[0][0]           \n",
            "                                                                 conv4_block3_3_bn[0][0]          \n",
            "__________________________________________________________________________________________________\n",
            "conv4_block3_out (Activation)   (None, None, None, 1 0           conv4_block3_add[0][0]           \n",
            "__________________________________________________________________________________________________\n",
            "conv4_block4_1_conv (Conv2D)    (None, None, None, 2 262400      conv4_block3_out[0][0]           \n",
            "__________________________________________________________________________________________________\n",
            "conv4_block4_1_bn (BatchNormali (None, None, None, 2 1024        conv4_block4_1_conv[0][0]        \n",
            "__________________________________________________________________________________________________\n",
            "conv4_block4_1_relu (Activation (None, None, None, 2 0           conv4_block4_1_bn[0][0]          \n",
            "__________________________________________________________________________________________________\n",
            "conv4_block4_2_conv (Conv2D)    (None, None, None, 2 590080      conv4_block4_1_relu[0][0]        \n",
            "__________________________________________________________________________________________________\n",
            "conv4_block4_2_bn (BatchNormali (None, None, None, 2 1024        conv4_block4_2_conv[0][0]        \n",
            "__________________________________________________________________________________________________\n",
            "conv4_block4_2_relu (Activation (None, None, None, 2 0           conv4_block4_2_bn[0][0]          \n",
            "__________________________________________________________________________________________________\n",
            "conv4_block4_3_conv (Conv2D)    (None, None, None, 1 263168      conv4_block4_2_relu[0][0]        \n",
            "__________________________________________________________________________________________________\n",
            "conv4_block4_3_bn (BatchNormali (None, None, None, 1 4096        conv4_block4_3_conv[0][0]        \n",
            "__________________________________________________________________________________________________\n",
            "conv4_block4_add (Add)          (None, None, None, 1 0           conv4_block3_out[0][0]           \n",
            "                                                                 conv4_block4_3_bn[0][0]          \n",
            "__________________________________________________________________________________________________\n",
            "conv4_block4_out (Activation)   (None, None, None, 1 0           conv4_block4_add[0][0]           \n",
            "__________________________________________________________________________________________________\n",
            "conv4_block5_1_conv (Conv2D)    (None, None, None, 2 262400      conv4_block4_out[0][0]           \n",
            "__________________________________________________________________________________________________\n",
            "conv4_block5_1_bn (BatchNormali (None, None, None, 2 1024        conv4_block5_1_conv[0][0]        \n",
            "__________________________________________________________________________________________________\n",
            "conv4_block5_1_relu (Activation (None, None, None, 2 0           conv4_block5_1_bn[0][0]          \n",
            "__________________________________________________________________________________________________\n",
            "conv4_block5_2_conv (Conv2D)    (None, None, None, 2 590080      conv4_block5_1_relu[0][0]        \n",
            "__________________________________________________________________________________________________\n",
            "conv4_block5_2_bn (BatchNormali (None, None, None, 2 1024        conv4_block5_2_conv[0][0]        \n",
            "__________________________________________________________________________________________________\n",
            "conv4_block5_2_relu (Activation (None, None, None, 2 0           conv4_block5_2_bn[0][0]          \n",
            "__________________________________________________________________________________________________\n",
            "conv4_block5_3_conv (Conv2D)    (None, None, None, 1 263168      conv4_block5_2_relu[0][0]        \n",
            "__________________________________________________________________________________________________\n",
            "conv4_block5_3_bn (BatchNormali (None, None, None, 1 4096        conv4_block5_3_conv[0][0]        \n",
            "__________________________________________________________________________________________________\n",
            "conv4_block5_add (Add)          (None, None, None, 1 0           conv4_block4_out[0][0]           \n",
            "                                                                 conv4_block5_3_bn[0][0]          \n",
            "__________________________________________________________________________________________________\n",
            "conv4_block5_out (Activation)   (None, None, None, 1 0           conv4_block5_add[0][0]           \n",
            "__________________________________________________________________________________________________\n",
            "conv4_block6_1_conv (Conv2D)    (None, None, None, 2 262400      conv4_block5_out[0][0]           \n",
            "__________________________________________________________________________________________________\n",
            "conv4_block6_1_bn (BatchNormali (None, None, None, 2 1024        conv4_block6_1_conv[0][0]        \n",
            "__________________________________________________________________________________________________\n",
            "conv4_block6_1_relu (Activation (None, None, None, 2 0           conv4_block6_1_bn[0][0]          \n",
            "__________________________________________________________________________________________________\n",
            "conv4_block6_2_conv (Conv2D)    (None, None, None, 2 590080      conv4_block6_1_relu[0][0]        \n",
            "__________________________________________________________________________________________________\n",
            "conv4_block6_2_bn (BatchNormali (None, None, None, 2 1024        conv4_block6_2_conv[0][0]        \n",
            "__________________________________________________________________________________________________\n",
            "conv4_block6_2_relu (Activation (None, None, None, 2 0           conv4_block6_2_bn[0][0]          \n",
            "__________________________________________________________________________________________________\n",
            "conv4_block6_3_conv (Conv2D)    (None, None, None, 1 263168      conv4_block6_2_relu[0][0]        \n",
            "__________________________________________________________________________________________________\n",
            "conv4_block6_3_bn (BatchNormali (None, None, None, 1 4096        conv4_block6_3_conv[0][0]        \n",
            "__________________________________________________________________________________________________\n",
            "conv4_block6_add (Add)          (None, None, None, 1 0           conv4_block5_out[0][0]           \n",
            "                                                                 conv4_block6_3_bn[0][0]          \n",
            "__________________________________________________________________________________________________\n",
            "conv4_block6_out (Activation)   (None, None, None, 1 0           conv4_block6_add[0][0]           \n",
            "__________________________________________________________________________________________________\n",
            "conv5_block1_1_conv (Conv2D)    (None, None, None, 5 524800      conv4_block6_out[0][0]           \n",
            "__________________________________________________________________________________________________\n",
            "conv5_block1_1_bn (BatchNormali (None, None, None, 5 2048        conv5_block1_1_conv[0][0]        \n",
            "__________________________________________________________________________________________________\n",
            "conv5_block1_1_relu (Activation (None, None, None, 5 0           conv5_block1_1_bn[0][0]          \n",
            "__________________________________________________________________________________________________\n",
            "conv5_block1_2_conv (Conv2D)    (None, None, None, 5 2359808     conv5_block1_1_relu[0][0]        \n",
            "__________________________________________________________________________________________________\n",
            "conv5_block1_2_bn (BatchNormali (None, None, None, 5 2048        conv5_block1_2_conv[0][0]        \n",
            "__________________________________________________________________________________________________\n",
            "conv5_block1_2_relu (Activation (None, None, None, 5 0           conv5_block1_2_bn[0][0]          \n",
            "__________________________________________________________________________________________________\n",
            "conv5_block1_0_conv (Conv2D)    (None, None, None, 2 2099200     conv4_block6_out[0][0]           \n",
            "__________________________________________________________________________________________________\n",
            "conv5_block1_3_conv (Conv2D)    (None, None, None, 2 1050624     conv5_block1_2_relu[0][0]        \n",
            "__________________________________________________________________________________________________\n",
            "conv5_block1_0_bn (BatchNormali (None, None, None, 2 8192        conv5_block1_0_conv[0][0]        \n",
            "__________________________________________________________________________________________________\n",
            "conv5_block1_3_bn (BatchNormali (None, None, None, 2 8192        conv5_block1_3_conv[0][0]        \n",
            "__________________________________________________________________________________________________\n",
            "conv5_block1_add (Add)          (None, None, None, 2 0           conv5_block1_0_bn[0][0]          \n",
            "                                                                 conv5_block1_3_bn[0][0]          \n",
            "__________________________________________________________________________________________________\n",
            "conv5_block1_out (Activation)   (None, None, None, 2 0           conv5_block1_add[0][0]           \n",
            "__________________________________________________________________________________________________\n",
            "conv5_block2_1_conv (Conv2D)    (None, None, None, 5 1049088     conv5_block1_out[0][0]           \n",
            "__________________________________________________________________________________________________\n",
            "conv5_block2_1_bn (BatchNormali (None, None, None, 5 2048        conv5_block2_1_conv[0][0]        \n",
            "__________________________________________________________________________________________________\n",
            "conv5_block2_1_relu (Activation (None, None, None, 5 0           conv5_block2_1_bn[0][0]          \n",
            "__________________________________________________________________________________________________\n",
            "conv5_block2_2_conv (Conv2D)    (None, None, None, 5 2359808     conv5_block2_1_relu[0][0]        \n",
            "__________________________________________________________________________________________________\n",
            "conv5_block2_2_bn (BatchNormali (None, None, None, 5 2048        conv5_block2_2_conv[0][0]        \n",
            "__________________________________________________________________________________________________\n",
            "conv5_block2_2_relu (Activation (None, None, None, 5 0           conv5_block2_2_bn[0][0]          \n",
            "__________________________________________________________________________________________________\n",
            "conv5_block2_3_conv (Conv2D)    (None, None, None, 2 1050624     conv5_block2_2_relu[0][0]        \n",
            "__________________________________________________________________________________________________\n",
            "conv5_block2_3_bn (BatchNormali (None, None, None, 2 8192        conv5_block2_3_conv[0][0]        \n",
            "__________________________________________________________________________________________________\n",
            "conv5_block2_add (Add)          (None, None, None, 2 0           conv5_block1_out[0][0]           \n",
            "                                                                 conv5_block2_3_bn[0][0]          \n",
            "__________________________________________________________________________________________________\n",
            "conv5_block2_out (Activation)   (None, None, None, 2 0           conv5_block2_add[0][0]           \n",
            "__________________________________________________________________________________________________\n",
            "conv5_block3_1_conv (Conv2D)    (None, None, None, 5 1049088     conv5_block2_out[0][0]           \n",
            "__________________________________________________________________________________________________\n",
            "conv5_block3_1_bn (BatchNormali (None, None, None, 5 2048        conv5_block3_1_conv[0][0]        \n",
            "__________________________________________________________________________________________________\n",
            "conv5_block3_1_relu (Activation (None, None, None, 5 0           conv5_block3_1_bn[0][0]          \n",
            "__________________________________________________________________________________________________\n",
            "conv5_block3_2_conv (Conv2D)    (None, None, None, 5 2359808     conv5_block3_1_relu[0][0]        \n",
            "__________________________________________________________________________________________________\n",
            "conv5_block3_2_bn (BatchNormali (None, None, None, 5 2048        conv5_block3_2_conv[0][0]        \n",
            "__________________________________________________________________________________________________\n",
            "conv5_block3_2_relu (Activation (None, None, None, 5 0           conv5_block3_2_bn[0][0]          \n",
            "__________________________________________________________________________________________________\n",
            "conv5_block3_3_conv (Conv2D)    (None, None, None, 2 1050624     conv5_block3_2_relu[0][0]        \n",
            "__________________________________________________________________________________________________\n",
            "conv5_block3_3_bn (BatchNormali (None, None, None, 2 8192        conv5_block3_3_conv[0][0]        \n",
            "__________________________________________________________________________________________________\n",
            "conv5_block3_add (Add)          (None, None, None, 2 0           conv5_block2_out[0][0]           \n",
            "                                                                 conv5_block3_3_bn[0][0]          \n",
            "__________________________________________________________________________________________________\n",
            "conv5_block3_out (Activation)   (None, None, None, 2 0           conv5_block3_add[0][0]           \n",
            "__________________________________________________________________________________________________\n",
            "global_average_pooling2d (Globa (None, 2048)         0           conv5_block3_out[0][0]           \n",
            "__________________________________________________________________________________________________\n",
            "dense (Dense)                   (None, 1024)         2098176     global_average_pooling2d[0][0]   \n",
            "__________________________________________________________________________________________________\n",
            "dense_1 (Dense)                 (None, 1)            1025        dense[0][0]                      \n",
            "==================================================================================================\n",
            "Total params: 25,686,913\n",
            "Trainable params: 2,099,201\n",
            "Non-trainable params: 23,587,712\n",
            "__________________________________________________________________________________________________\n"
          ],
          "name": "stdout"
        }
      ]
    },
    {
      "cell_type": "markdown",
      "metadata": {
        "id": "X1JelWcwdEtR",
        "colab_type": "text"
      },
      "source": [
        "## Fit Model"
      ]
    },
    {
      "cell_type": "code",
      "metadata": {
        "id": "6ezsrM6udEtS",
        "colab_type": "code",
        "colab": {
          "base_uri": "https://localhost:8080/",
          "height": 1000
        },
        "outputId": "3ba413a1-d730-4835-f712-00e3283c230e"
      },
      "source": [
        "history = model.fit(\n",
        "    train_data_gen,\n",
        "    steps_per_epoch=total_train // batch_size,\n",
        "    epochs=epochs,\n",
        "    validation_data=val_data_gen,\n",
        "    validation_steps=total_val // batch_size\n",
        ")"
      ],
      "execution_count": 14,
      "outputs": [
        {
          "output_type": "stream",
          "text": [
            "Epoch 1/50\n",
            "32/32 [==============================] - 4s 117ms/step - loss: 0.9562 - accuracy: 0.5150 - val_loss: 0.5885 - val_accuracy: 0.6591\n",
            "Epoch 2/50\n",
            "32/32 [==============================] - 3s 78ms/step - loss: 0.6542 - accuracy: 0.6068 - val_loss: 0.5485 - val_accuracy: 0.6591\n",
            "Epoch 3/50\n",
            "32/32 [==============================] - 2s 78ms/step - loss: 0.5556 - accuracy: 0.7186 - val_loss: 0.5096 - val_accuracy: 0.8295\n",
            "Epoch 4/50\n",
            "32/32 [==============================] - 3s 78ms/step - loss: 0.5237 - accuracy: 0.7106 - val_loss: 0.4777 - val_accuracy: 0.8409\n",
            "Epoch 5/50\n",
            "32/32 [==============================] - 3s 79ms/step - loss: 0.5099 - accuracy: 0.7445 - val_loss: 0.4991 - val_accuracy: 0.8011\n",
            "Epoch 6/50\n",
            "32/32 [==============================] - 2s 78ms/step - loss: 0.4221 - accuracy: 0.8423 - val_loss: 0.5452 - val_accuracy: 0.7614\n",
            "Epoch 7/50\n",
            "32/32 [==============================] - 3s 79ms/step - loss: 0.3940 - accuracy: 0.8443 - val_loss: 0.4440 - val_accuracy: 0.8295\n",
            "Epoch 8/50\n",
            "32/32 [==============================] - 3s 78ms/step - loss: 0.4253 - accuracy: 0.7964 - val_loss: 0.7910 - val_accuracy: 0.5341\n",
            "Epoch 9/50\n",
            "32/32 [==============================] - 3s 80ms/step - loss: 0.4066 - accuracy: 0.8144 - val_loss: 0.3258 - val_accuracy: 0.8750\n",
            "Epoch 10/50\n",
            "32/32 [==============================] - 3s 78ms/step - loss: 0.3139 - accuracy: 0.9002 - val_loss: 0.3335 - val_accuracy: 0.8295\n",
            "Epoch 11/50\n",
            "32/32 [==============================] - 3s 79ms/step - loss: 0.3009 - accuracy: 0.8922 - val_loss: 0.2987 - val_accuracy: 0.9148\n",
            "Epoch 12/50\n",
            "32/32 [==============================] - 3s 78ms/step - loss: 0.2944 - accuracy: 0.9022 - val_loss: 0.2966 - val_accuracy: 0.9034\n",
            "Epoch 13/50\n",
            "32/32 [==============================] - 3s 79ms/step - loss: 0.2633 - accuracy: 0.9122 - val_loss: 0.3669 - val_accuracy: 0.8580\n",
            "Epoch 14/50\n",
            "32/32 [==============================] - 3s 79ms/step - loss: 0.2595 - accuracy: 0.9082 - val_loss: 0.2889 - val_accuracy: 0.9148\n",
            "Epoch 15/50\n",
            "32/32 [==============================] - 3s 79ms/step - loss: 0.2517 - accuracy: 0.9162 - val_loss: 0.7485 - val_accuracy: 0.6193\n",
            "Epoch 16/50\n",
            "32/32 [==============================] - 3s 79ms/step - loss: 0.2762 - accuracy: 0.8902 - val_loss: 0.2542 - val_accuracy: 0.9261\n",
            "Epoch 17/50\n",
            "32/32 [==============================] - 3s 79ms/step - loss: 0.2930 - accuracy: 0.8643 - val_loss: 0.2690 - val_accuracy: 0.8864\n",
            "Epoch 18/50\n",
            "32/32 [==============================] - 3s 79ms/step - loss: 0.2085 - accuracy: 0.9281 - val_loss: 0.2615 - val_accuracy: 0.9148\n",
            "Epoch 19/50\n",
            "32/32 [==============================] - 3s 80ms/step - loss: 0.2345 - accuracy: 0.9042 - val_loss: 0.3036 - val_accuracy: 0.8636\n",
            "Epoch 20/50\n",
            "32/32 [==============================] - 3s 80ms/step - loss: 0.2277 - accuracy: 0.9102 - val_loss: 0.2582 - val_accuracy: 0.8920\n",
            "Epoch 21/50\n",
            "32/32 [==============================] - 3s 80ms/step - loss: 0.2044 - accuracy: 0.9341 - val_loss: 0.2363 - val_accuracy: 0.9318\n",
            "Epoch 22/50\n",
            "32/32 [==============================] - 3s 80ms/step - loss: 0.1824 - accuracy: 0.9381 - val_loss: 0.2927 - val_accuracy: 0.8466\n",
            "Epoch 23/50\n",
            "32/32 [==============================] - 3s 80ms/step - loss: 0.1690 - accuracy: 0.9341 - val_loss: 0.2294 - val_accuracy: 0.9261\n",
            "Epoch 24/50\n",
            "32/32 [==============================] - 3s 81ms/step - loss: 0.1683 - accuracy: 0.9441 - val_loss: 0.2183 - val_accuracy: 0.9091\n",
            "Epoch 25/50\n",
            "32/32 [==============================] - 3s 81ms/step - loss: 0.1865 - accuracy: 0.9182 - val_loss: 0.2492 - val_accuracy: 0.8977\n",
            "Epoch 26/50\n",
            "32/32 [==============================] - 3s 81ms/step - loss: 0.1748 - accuracy: 0.9321 - val_loss: 0.6860 - val_accuracy: 0.7159\n",
            "Epoch 27/50\n",
            "32/32 [==============================] - 3s 80ms/step - loss: 0.1883 - accuracy: 0.9341 - val_loss: 0.3496 - val_accuracy: 0.8011\n",
            "Epoch 28/50\n",
            "32/32 [==============================] - 3s 81ms/step - loss: 0.2138 - accuracy: 0.9042 - val_loss: 0.2409 - val_accuracy: 0.8977\n",
            "Epoch 29/50\n",
            "32/32 [==============================] - 3s 80ms/step - loss: 0.1620 - accuracy: 0.9361 - val_loss: 0.3954 - val_accuracy: 0.8352\n",
            "Epoch 30/50\n",
            "32/32 [==============================] - 3s 81ms/step - loss: 0.2858 - accuracy: 0.8762 - val_loss: 0.2552 - val_accuracy: 0.9034\n",
            "Epoch 31/50\n",
            "32/32 [==============================] - 3s 81ms/step - loss: 0.2359 - accuracy: 0.8942 - val_loss: 0.2830 - val_accuracy: 0.8693\n",
            "Epoch 32/50\n",
            "32/32 [==============================] - 3s 81ms/step - loss: 0.1332 - accuracy: 0.9581 - val_loss: 0.2315 - val_accuracy: 0.8977\n",
            "Epoch 33/50\n",
            "32/32 [==============================] - 3s 82ms/step - loss: 0.1216 - accuracy: 0.9621 - val_loss: 0.2038 - val_accuracy: 0.9375\n",
            "Epoch 34/50\n",
            "32/32 [==============================] - 3s 81ms/step - loss: 0.1369 - accuracy: 0.9461 - val_loss: 0.2845 - val_accuracy: 0.8920\n",
            "Epoch 35/50\n",
            "32/32 [==============================] - 3s 81ms/step - loss: 0.1478 - accuracy: 0.9381 - val_loss: 0.3578 - val_accuracy: 0.8466\n",
            "Epoch 36/50\n",
            "32/32 [==============================] - 3s 81ms/step - loss: 0.1062 - accuracy: 0.9601 - val_loss: 0.3538 - val_accuracy: 0.8466\n",
            "Epoch 37/50\n",
            "32/32 [==============================] - 3s 81ms/step - loss: 0.2059 - accuracy: 0.8982 - val_loss: 0.7427 - val_accuracy: 0.7102\n",
            "Epoch 38/50\n",
            "32/32 [==============================] - 3s 81ms/step - loss: 0.1409 - accuracy: 0.9401 - val_loss: 0.2824 - val_accuracy: 0.8920\n",
            "Epoch 39/50\n",
            "32/32 [==============================] - 3s 81ms/step - loss: 0.1682 - accuracy: 0.9242 - val_loss: 0.2299 - val_accuracy: 0.9091\n",
            "Epoch 40/50\n",
            "32/32 [==============================] - 3s 80ms/step - loss: 0.1158 - accuracy: 0.9561 - val_loss: 0.6120 - val_accuracy: 0.7670\n",
            "Epoch 41/50\n",
            "32/32 [==============================] - 3s 82ms/step - loss: 0.1146 - accuracy: 0.9521 - val_loss: 0.2662 - val_accuracy: 0.9034\n",
            "Epoch 42/50\n",
            "32/32 [==============================] - 3s 81ms/step - loss: 0.0840 - accuracy: 0.9681 - val_loss: 0.2515 - val_accuracy: 0.9205\n",
            "Epoch 43/50\n",
            "32/32 [==============================] - 3s 80ms/step - loss: 0.0860 - accuracy: 0.9800 - val_loss: 0.5666 - val_accuracy: 0.7841\n",
            "Epoch 44/50\n",
            "32/32 [==============================] - 3s 80ms/step - loss: 0.1004 - accuracy: 0.9661 - val_loss: 0.2032 - val_accuracy: 0.9318\n",
            "Epoch 45/50\n",
            "32/32 [==============================] - 3s 80ms/step - loss: 0.0923 - accuracy: 0.9681 - val_loss: 0.2611 - val_accuracy: 0.9148\n",
            "Epoch 46/50\n",
            "32/32 [==============================] - 3s 80ms/step - loss: 0.1058 - accuracy: 0.9601 - val_loss: 0.2027 - val_accuracy: 0.9375\n",
            "Epoch 47/50\n",
            "32/32 [==============================] - 3s 80ms/step - loss: 0.0861 - accuracy: 0.9661 - val_loss: 0.2207 - val_accuracy: 0.9375\n",
            "Epoch 48/50\n",
            "32/32 [==============================] - 3s 80ms/step - loss: 0.0835 - accuracy: 0.9721 - val_loss: 0.2689 - val_accuracy: 0.8977\n",
            "Epoch 49/50\n",
            "32/32 [==============================] - 3s 80ms/step - loss: 0.0961 - accuracy: 0.9681 - val_loss: 0.1836 - val_accuracy: 0.9432\n",
            "Epoch 50/50\n",
            "32/32 [==============================] - 3s 80ms/step - loss: 0.0989 - accuracy: 0.9661 - val_loss: 0.1937 - val_accuracy: 0.9375\n"
          ],
          "name": "stdout"
        }
      ]
    },
    {
      "cell_type": "code",
      "metadata": {
        "id": "g35amjm8ytxk",
        "colab_type": "code",
        "colab": {
          "base_uri": "https://localhost:8080/",
          "height": 295
        },
        "outputId": "6005a706-192f-4627-d0a1-3cb07e87db2c"
      },
      "source": [
        "import matplotlib.pyplot as plt\n",
        "# Plot training & validation accuracy values\n",
        "plt.plot(history.history['accuracy'])\n",
        "plt.plot(history.history['val_accuracy'])\n",
        "plt.title('Model Accuracy')\n",
        "plt.ylabel('Accuracy')\n",
        "plt.xlabel('Epoch')\n",
        "plt.legend(['Train', 'Validation'], loc='lower right')\n",
        "plt.show();"
      ],
      "execution_count": 15,
      "outputs": [
        {
          "output_type": "display_data",
          "data": {
            "image/png": "[encoded data removed]",
            "text/plain": [
              "<Figure size 432x288 with 1 Axes>"
            ]
          },
          "metadata": {
            "tags": [],
            "needs_background": "light"
          }
        }
      ]
    },
    {
      "cell_type": "markdown",
      "metadata": {
        "id": "1FuCMDcNdEtU",
        "colab_type": "text"
      },
      "source": [
        "# Custom CNN Model\n",
        "\n",
        "In this step, write and train your own convolutional neural network using Keras. You can use any architecture that suits you as long as it has at least one convolutional and one pooling layer at the beginning of the network - you can add more if you want. "
      ]
    },
    {
      "cell_type": "code",
      "metadata": {
        "id": "7WHc5KXWdEtV",
        "colab_type": "code",
        "colab": {
          "base_uri": "https://localhost:8080/",
          "height": 432
        },
        "outputId": "00482019-a850-4be6-9266-b67d20071f86"
      },
      "source": [
        "# Define the Model\n",
        "\n",
        "model = Sequential()\n",
        "model.add(Conv2D(32, kernel_size=(3,3), activation='relu', input_shape=(224, 224,3)))\n",
        "model.add(MaxPooling2D(pool_size=(2,2)))\n",
        "model.add(Conv2D(64, kernel_size=(3,3), activation='relu'))\n",
        "model.add(MaxPooling2D(pool_size=(2,2)))\n",
        "model.add(Conv2D(64, kernel_size=(3,3), activation='relu'))\n",
        "model.add(Flatten())\n",
        "model.add(Dense(64, activation='relu'))\n",
        "model.add(Dense(1, activation='sigmoid'))\n",
        "\n",
        "\n",
        "\n",
        "# Print summary\n",
        "model.summary()"
      ],
      "execution_count": 43,
      "outputs": [
        {
          "output_type": "stream",
          "text": [
            "Model: \"sequential_4\"\n",
            "_________________________________________________________________\n",
            "Layer (type)                 Output Shape              Param #   \n",
            "=================================================================\n",
            "conv2d_12 (Conv2D)           (None, 222, 222, 32)      896       \n",
            "_________________________________________________________________\n",
            "max_pooling2d_8 (MaxPooling2 (None, 111, 111, 32)      0         \n",
            "_________________________________________________________________\n",
            "conv2d_13 (Conv2D)           (None, 109, 109, 64)      18496     \n",
            "_________________________________________________________________\n",
            "max_pooling2d_9 (MaxPooling2 (None, 54, 54, 64)        0         \n",
            "_________________________________________________________________\n",
            "conv2d_14 (Conv2D)           (None, 52, 52, 64)        36928     \n",
            "_________________________________________________________________\n",
            "flatten_4 (Flatten)          (None, 173056)            0         \n",
            "_________________________________________________________________\n",
            "dense_10 (Dense)             (None, 64)                11075648  \n",
            "_________________________________________________________________\n",
            "dense_11 (Dense)             (None, 1)                 65        \n",
            "=================================================================\n",
            "Total params: 11,132,033\n",
            "Trainable params: 11,132,033\n",
            "Non-trainable params: 0\n",
            "_________________________________________________________________\n"
          ],
          "name": "stdout"
        }
      ]
    },
    {
      "cell_type": "code",
      "metadata": {
        "id": "qvQbXHLodEtX",
        "colab_type": "code",
        "colab": {}
      },
      "source": [
        "\n",
        "# Compile Model\n",
        "model.compile(optimizer='adam',\n",
        "              loss='binary_crossentropy',\n",
        "              metrics=['accuracy'])"
      ],
      "execution_count": 0,
      "outputs": []
    },
    {
      "cell_type": "code",
      "metadata": {
        "id": "ySws0hmndEta",
        "colab_type": "code",
        "colab": {
          "base_uri": "https://localhost:8080/",
          "height": 1000
        },
        "outputId": "6cd998f8-2a02-4cd1-9fad-a2ae01f1dab2"
      },
      "source": [
        "#fit model\n",
        "history = model.fit(train_data_gen,\n",
        "                   steps_per_epoch=total_train // batch_size,\n",
        "                   epochs=epochs,\n",
        "                   validation_data=val_data_gen,\n",
        "                   validation_steps=total_val // batch_size)"
      ],
      "execution_count": 45,
      "outputs": [
        {
          "output_type": "stream",
          "text": [
            "Epoch 1/50\n",
            "32/32 [==============================] - 2s 72ms/step - loss: 0.7406 - accuracy: 0.7665 - val_loss: 0.4598 - val_accuracy: 0.8580\n",
            "Epoch 2/50\n",
            "32/32 [==============================] - 2s 69ms/step - loss: 0.2370 - accuracy: 0.9142 - val_loss: 0.3052 - val_accuracy: 0.8580\n",
            "Epoch 3/50\n",
            "32/32 [==============================] - 2s 70ms/step - loss: 0.1639 - accuracy: 0.9321 - val_loss: 0.1862 - val_accuracy: 0.9205\n",
            "Epoch 4/50\n",
            "32/32 [==============================] - 2s 69ms/step - loss: 0.1448 - accuracy: 0.9441 - val_loss: 0.1467 - val_accuracy: 0.9375\n",
            "Epoch 5/50\n",
            "32/32 [==============================] - 2s 70ms/step - loss: 0.1303 - accuracy: 0.9481 - val_loss: 0.2740 - val_accuracy: 0.9148\n",
            "Epoch 6/50\n",
            "32/32 [==============================] - 2s 70ms/step - loss: 0.0977 - accuracy: 0.9641 - val_loss: 0.1878 - val_accuracy: 0.9261\n",
            "Epoch 7/50\n",
            "32/32 [==============================] - 2s 70ms/step - loss: 0.1061 - accuracy: 0.9521 - val_loss: 0.1963 - val_accuracy: 0.9375\n",
            "Epoch 8/50\n",
            "32/32 [==============================] - 2s 70ms/step - loss: 0.0612 - accuracy: 0.9800 - val_loss: 0.2809 - val_accuracy: 0.9091\n",
            "Epoch 9/50\n",
            "32/32 [==============================] - 2s 70ms/step - loss: 0.0346 - accuracy: 0.9880 - val_loss: 0.4006 - val_accuracy: 0.9034\n",
            "Epoch 10/50\n",
            "32/32 [==============================] - 2s 70ms/step - loss: 0.0581 - accuracy: 0.9701 - val_loss: 0.5532 - val_accuracy: 0.8693\n",
            "Epoch 11/50\n",
            "32/32 [==============================] - 2s 70ms/step - loss: 0.0491 - accuracy: 0.9800 - val_loss: 0.1934 - val_accuracy: 0.9205\n",
            "Epoch 12/50\n",
            "32/32 [==============================] - 2s 70ms/step - loss: 0.0427 - accuracy: 0.9860 - val_loss: 0.9749 - val_accuracy: 0.8352\n",
            "Epoch 13/50\n",
            "32/32 [==============================] - 2s 70ms/step - loss: 0.0275 - accuracy: 0.9900 - val_loss: 0.3151 - val_accuracy: 0.9148\n",
            "Epoch 14/50\n",
            "32/32 [==============================] - 2s 70ms/step - loss: 0.0059 - accuracy: 1.0000 - val_loss: 0.2581 - val_accuracy: 0.9375\n",
            "Epoch 15/50\n",
            "32/32 [==============================] - 2s 69ms/step - loss: 0.0188 - accuracy: 0.9920 - val_loss: 1.0998 - val_accuracy: 0.7784\n",
            "Epoch 16/50\n",
            "32/32 [==============================] - 2s 69ms/step - loss: 0.1554 - accuracy: 0.9541 - val_loss: 0.2611 - val_accuracy: 0.9261\n",
            "Epoch 17/50\n",
            "32/32 [==============================] - 2s 68ms/step - loss: 0.0173 - accuracy: 0.9920 - val_loss: 0.4227 - val_accuracy: 0.8920\n",
            "Epoch 18/50\n",
            "32/32 [==============================] - 2s 69ms/step - loss: 0.0050 - accuracy: 1.0000 - val_loss: 0.2015 - val_accuracy: 0.9489\n",
            "Epoch 19/50\n",
            "32/32 [==============================] - 2s 68ms/step - loss: 0.0014 - accuracy: 1.0000 - val_loss: 0.3170 - val_accuracy: 0.9091\n",
            "Epoch 20/50\n",
            "32/32 [==============================] - 2s 69ms/step - loss: 0.0012 - accuracy: 1.0000 - val_loss: 0.3231 - val_accuracy: 0.9148\n",
            "Epoch 21/50\n",
            "32/32 [==============================] - 2s 68ms/step - loss: 7.5593e-04 - accuracy: 1.0000 - val_loss: 0.3439 - val_accuracy: 0.9205\n",
            "Epoch 22/50\n",
            "32/32 [==============================] - 2s 69ms/step - loss: 6.3093e-04 - accuracy: 1.0000 - val_loss: 0.3819 - val_accuracy: 0.9205\n",
            "Epoch 23/50\n",
            "32/32 [==============================] - 2s 69ms/step - loss: 4.4801e-04 - accuracy: 1.0000 - val_loss: 0.3690 - val_accuracy: 0.9205\n",
            "Epoch 24/50\n",
            "32/32 [==============================] - 2s 68ms/step - loss: 3.3824e-04 - accuracy: 1.0000 - val_loss: 0.4427 - val_accuracy: 0.9091\n",
            "Epoch 25/50\n",
            "32/32 [==============================] - 2s 69ms/step - loss: 3.1511e-04 - accuracy: 1.0000 - val_loss: 0.5433 - val_accuracy: 0.9091\n",
            "Epoch 26/50\n",
            "32/32 [==============================] - 2s 67ms/step - loss: 2.2558e-04 - accuracy: 1.0000 - val_loss: 0.4615 - val_accuracy: 0.9091\n",
            "Epoch 27/50\n",
            "32/32 [==============================] - 2s 69ms/step - loss: 2.2947e-04 - accuracy: 1.0000 - val_loss: 0.5041 - val_accuracy: 0.9091\n",
            "Epoch 28/50\n",
            "32/32 [==============================] - 2s 68ms/step - loss: 2.1277e-04 - accuracy: 1.0000 - val_loss: 0.3864 - val_accuracy: 0.9261\n",
            "Epoch 29/50\n",
            "32/32 [==============================] - 2s 69ms/step - loss: 1.8048e-04 - accuracy: 1.0000 - val_loss: 0.4822 - val_accuracy: 0.9148\n",
            "Epoch 30/50\n",
            "32/32 [==============================] - 2s 68ms/step - loss: 1.5075e-04 - accuracy: 1.0000 - val_loss: 0.3884 - val_accuracy: 0.9205\n",
            "Epoch 31/50\n",
            "32/32 [==============================] - 2s 69ms/step - loss: 1.3765e-04 - accuracy: 1.0000 - val_loss: 0.5030 - val_accuracy: 0.9205\n",
            "Epoch 32/50\n",
            "32/32 [==============================] - 2s 70ms/step - loss: 1.2331e-04 - accuracy: 1.0000 - val_loss: 0.4566 - val_accuracy: 0.9205\n",
            "Epoch 33/50\n",
            "32/32 [==============================] - 2s 68ms/step - loss: 1.1316e-04 - accuracy: 1.0000 - val_loss: 0.4738 - val_accuracy: 0.9261\n",
            "Epoch 34/50\n",
            "32/32 [==============================] - 2s 68ms/step - loss: 1.0704e-04 - accuracy: 1.0000 - val_loss: 0.5283 - val_accuracy: 0.9091\n",
            "Epoch 35/50\n",
            "32/32 [==============================] - 2s 68ms/step - loss: 9.3410e-05 - accuracy: 1.0000 - val_loss: 0.5349 - val_accuracy: 0.9148\n",
            "Epoch 36/50\n",
            "32/32 [==============================] - 2s 69ms/step - loss: 8.9995e-05 - accuracy: 1.0000 - val_loss: 0.6251 - val_accuracy: 0.9091\n",
            "Epoch 37/50\n",
            "32/32 [==============================] - 2s 68ms/step - loss: 8.6761e-05 - accuracy: 1.0000 - val_loss: 0.5028 - val_accuracy: 0.9148\n",
            "Epoch 38/50\n",
            "32/32 [==============================] - 2s 69ms/step - loss: 7.2832e-05 - accuracy: 1.0000 - val_loss: 0.4940 - val_accuracy: 0.9148\n",
            "Epoch 39/50\n",
            "32/32 [==============================] - 2s 69ms/step - loss: 6.9252e-05 - accuracy: 1.0000 - val_loss: 0.4898 - val_accuracy: 0.9148\n",
            "Epoch 40/50\n",
            "32/32 [==============================] - 2s 70ms/step - loss: 6.4917e-05 - accuracy: 1.0000 - val_loss: 0.5489 - val_accuracy: 0.9148\n",
            "Epoch 41/50\n",
            "32/32 [==============================] - 2s 70ms/step - loss: 5.3022e-05 - accuracy: 1.0000 - val_loss: 0.5463 - val_accuracy: 0.9148\n",
            "Epoch 42/50\n",
            "32/32 [==============================] - 2s 67ms/step - loss: 5.7976e-05 - accuracy: 1.0000 - val_loss: 0.4959 - val_accuracy: 0.9148\n",
            "Epoch 43/50\n",
            "32/32 [==============================] - 2s 68ms/step - loss: 5.5328e-05 - accuracy: 1.0000 - val_loss: 0.5236 - val_accuracy: 0.9318\n",
            "Epoch 44/50\n",
            "32/32 [==============================] - 2s 67ms/step - loss: 4.8749e-05 - accuracy: 1.0000 - val_loss: 0.5630 - val_accuracy: 0.9148\n",
            "Epoch 45/50\n",
            "32/32 [==============================] - 2s 68ms/step - loss: 4.0371e-05 - accuracy: 1.0000 - val_loss: 0.4886 - val_accuracy: 0.9205\n",
            "Epoch 46/50\n",
            "32/32 [==============================] - 2s 67ms/step - loss: 4.2971e-05 - accuracy: 1.0000 - val_loss: 0.5313 - val_accuracy: 0.9205\n",
            "Epoch 47/50\n",
            "32/32 [==============================] - 2s 67ms/step - loss: 4.1832e-05 - accuracy: 1.0000 - val_loss: 0.5569 - val_accuracy: 0.9205\n",
            "Epoch 48/50\n",
            "32/32 [==============================] - 2s 67ms/step - loss: 3.5887e-05 - accuracy: 1.0000 - val_loss: 0.5878 - val_accuracy: 0.9148\n",
            "Epoch 49/50\n",
            "32/32 [==============================] - 2s 68ms/step - loss: 3.6263e-05 - accuracy: 1.0000 - val_loss: 0.5233 - val_accuracy: 0.9205\n",
            "Epoch 50/50\n",
            "32/32 [==============================] - 2s 68ms/step - loss: 3.3407e-05 - accuracy: 1.0000 - val_loss: 0.5181 - val_accuracy: 0.9205\n"
          ],
          "name": "stdout"
        }
      ]
    },
    {
      "cell_type": "code",
      "metadata": {
        "id": "LL_u4isJa40U",
        "colab_type": "code",
        "colab": {
          "base_uri": "https://localhost:8080/",
          "height": 295
        },
        "outputId": "a1dcb94d-b4da-4f40-d949-61c43a64e47b"
      },
      "source": [
        "import matplotlib.pyplot as plt\n",
        "# Plot training & validation accuracy values\n",
        "plt.plot(history.history['accuracy'])\n",
        "plt.plot(history.history['val_accuracy'])\n",
        "plt.title('Model Accuracy')\n",
        "plt.ylabel('Accuracy')\n",
        "plt.xlabel('Epoch')\n",
        "plt.legend(['Train', 'Validation'], loc='lower right')\n",
        "plt.show();"
      ],
      "execution_count": 52,
      "outputs": [
        {
          "output_type": "display_data",
          "data": {
            "image/png": "[encoded data removed]",
            "text/plain": [
              "<Figure size 432x288 with 1 Axes>"
            ]
          },
          "metadata": {
            "tags": [],
            "needs_background": "light"
          }
        }
      ]
    },
    {
      "cell_type": "code",
      "metadata": {
        "id": "-hJxLIooyrAM",
        "colab_type": "code",
        "colab": {}
      },
      "source": [
        ""
      ],
      "execution_count": 0,
      "outputs": []
    },
    {
      "cell_type": "code",
      "metadata": {
        "id": "Zp93GJu0gPG4",
        "colab_type": "code",
        "colab": {}
      },
      "source": [
        ""
      ],
      "execution_count": 0,
      "outputs": []
    },
    {
      "cell_type": "markdown",
      "metadata": {
        "id": "f6XWfskndEtd",
        "colab_type": "text"
      },
      "source": [
        "# Custom CNN Model with Image Manipulations\n",
        "\n",
        "To simulate an increase in a sample of image, you can apply image manipulation techniques: cropping, rotation, stretching, etc. Luckily Keras has some handy functions for us to apply these techniques to our mountain and forest example. Simply, you should be able to modify our image generator for the problem. Check out these resources to help you get started: \n",
        "\n",
        "1. [Keras `ImageGenerator` Class](https://keras.io/preprocessing/image/#imagedatagenerator-class)\n",
        "2. [Building a powerful image classifier with very little data](https://blog.keras.io/building-powerful-image-classification-models-using-very-little-data.html)\n",
        " "
      ]
    },
    {
      "cell_type": "code",
      "metadata": {
        "id": "XVGKhkT3dEte",
        "colab_type": "code",
        "colab": {
          "base_uri": "https://localhost:8080/",
          "height": 52
        },
        "outputId": "70892669-6580-40a4-e00e-2808fcd5bc01"
      },
      "source": [
        "train_image_generator = ImageDataGenerator(rotation_range=20,\n",
        "                                           width_shift_range=0.2,\n",
        "                                           height_shift_range=0.2,\n",
        "                                           rescale=1./255,\n",
        "                                           shear_range=0.15,\n",
        "                                           zoom_range=0.3,\n",
        "                                           horizontal_flip=True,\n",
        "                                           fill_mode='nearest') # Generator for our training data\n",
        "\n",
        "validation_image_generator = ImageDataGenerator(rotation_range=20,\n",
        "                                                width_shift_range=0.2,\n",
        "                                                height_shift_range=0.2,\n",
        "                                                rescale=1./255,\n",
        "                                                shear_range=0.15,\n",
        "                                                zoom_range=0.3,\n",
        "                                                horizontal_flip=True,\n",
        "                                                fill_mode='nearest') # Generator for our validation data\n",
        "\n",
        "train_data_gen = train_image_generator.flow_from_directory(batch_size=batch_size,\n",
        "                                                           directory=train_dir,\n",
        "                                                           shuffle=True,\n",
        "                                                           target_size=(IMG_HEIGHT, IMG_WIDTH),\n",
        "                                                           class_mode='binary')\n",
        "\n",
        "val_data_gen = validation_image_generator.flow_from_directory(batch_size=batch_size,\n",
        "                                                              directory=validation_dir,\n",
        "                                                              target_size=(IMG_HEIGHT, IMG_WIDTH),\n",
        "                                                              class_mode='binary')"
      ],
      "execution_count": 53,
      "outputs": [
        {
          "output_type": "stream",
          "text": [
            "Found 533 images belonging to 2 classes.\n",
            "Found 195 images belonging to 2 classes.\n"
          ],
          "name": "stdout"
        }
      ]
    },
    {
      "cell_type": "code",
      "metadata": {
        "id": "NtwKAUVNe-7Q",
        "colab_type": "code",
        "colab": {
          "base_uri": "https://localhost:8080/",
          "height": 432
        },
        "outputId": "2069de70-56e8-49cc-8d20-8eacdaabb020"
      },
      "source": [
        "# Define the Model\n",
        "\n",
        "model = Sequential([\n",
        "    Conv2D(224, (3,3), activation='relu', input_shape=(IMG_HEIGHT, IMG_WIDTH,3)),\n",
        "    MaxPooling2D((2,2)),\n",
        "    Conv2D(64, (3,3), activation='relu'),\n",
        "    MaxPooling2D((2,2)),\n",
        "    Conv2D(64, (3,3), activation='relu'),\n",
        "    Flatten(),\n",
        "    Dense(64, activation='relu'),\n",
        "    Dense(1, activation='sigmoid'),\n",
        "])\n",
        "\n",
        "model.summary()"
      ],
      "execution_count": 54,
      "outputs": [
        {
          "output_type": "stream",
          "text": [
            "Model: \"sequential_5\"\n",
            "_________________________________________________________________\n",
            "Layer (type)                 Output Shape              Param #   \n",
            "=================================================================\n",
            "conv2d_15 (Conv2D)           (None, 222, 222, 224)     6272      \n",
            "_________________________________________________________________\n",
            "max_pooling2d_10 (MaxPooling (None, 111, 111, 224)     0         \n",
            "_________________________________________________________________\n",
            "conv2d_16 (Conv2D)           (None, 109, 109, 64)      129088    \n",
            "_________________________________________________________________\n",
            "max_pooling2d_11 (MaxPooling (None, 54, 54, 64)        0         \n",
            "_________________________________________________________________\n",
            "conv2d_17 (Conv2D)           (None, 52, 52, 64)        36928     \n",
            "_________________________________________________________________\n",
            "flatten_5 (Flatten)          (None, 173056)            0         \n",
            "_________________________________________________________________\n",
            "dense_12 (Dense)             (None, 64)                11075648  \n",
            "_________________________________________________________________\n",
            "dense_13 (Dense)             (None, 1)                 65        \n",
            "=================================================================\n",
            "Total params: 11,248,001\n",
            "Trainable params: 11,248,001\n",
            "Non-trainable params: 0\n",
            "_________________________________________________________________\n"
          ],
          "name": "stdout"
        }
      ]
    },
    {
      "cell_type": "code",
      "metadata": {
        "id": "enDnI6ElfDHH",
        "colab_type": "code",
        "colab": {}
      },
      "source": [
        "model.compile(optimizer='adam',\n",
        "              loss=\"binary_crossentropy\",\n",
        "              metrics=['accuracy'])"
      ],
      "execution_count": 0,
      "outputs": []
    },
    {
      "cell_type": "code",
      "metadata": {
        "id": "5Ric4xTFfG92",
        "colab_type": "code",
        "colab": {
          "base_uri": "https://localhost:8080/",
          "height": 1000
        },
        "outputId": "061db020-ae3f-4940-cefd-0b0c32f6b8d7"
      },
      "source": [
        "\n",
        "manipulated = model.fit(train_data_gen,\n",
        "                   steps_per_epoch=total_train // batch_size,\n",
        "                   epochs=epochs,\n",
        "                   validation_data=val_data_gen,\n",
        "                   validation_steps=total_val // batch_size)"
      ],
      "execution_count": 56,
      "outputs": [
        {
          "output_type": "stream",
          "text": [
            "Epoch 1/50\n",
            "32/32 [==============================] - 11s 349ms/step - loss: 0.7956 - accuracy: 0.6427 - val_loss: 0.3146 - val_accuracy: 0.8693\n",
            "Epoch 2/50\n",
            "32/32 [==============================] - 11s 339ms/step - loss: 0.4352 - accuracy: 0.8343 - val_loss: 0.5469 - val_accuracy: 0.8011\n",
            "Epoch 3/50\n",
            "32/32 [==============================] - 11s 336ms/step - loss: 0.3207 - accuracy: 0.8663 - val_loss: 0.2242 - val_accuracy: 0.8977\n",
            "Epoch 4/50\n",
            "32/32 [==============================] - 11s 336ms/step - loss: 0.3204 - accuracy: 0.8703 - val_loss: 0.5373 - val_accuracy: 0.7500\n",
            "Epoch 5/50\n",
            "32/32 [==============================] - 11s 339ms/step - loss: 0.3249 - accuracy: 0.8743 - val_loss: 0.3393 - val_accuracy: 0.8466\n",
            "Epoch 6/50\n",
            "32/32 [==============================] - 11s 336ms/step - loss: 0.2772 - accuracy: 0.8862 - val_loss: 0.3949 - val_accuracy: 0.8239\n",
            "Epoch 7/50\n",
            "32/32 [==============================] - 11s 338ms/step - loss: 0.2500 - accuracy: 0.8922 - val_loss: 0.3166 - val_accuracy: 0.8523\n",
            "Epoch 8/50\n",
            "32/32 [==============================] - 11s 342ms/step - loss: 0.2338 - accuracy: 0.9102 - val_loss: 0.2442 - val_accuracy: 0.8920\n",
            "Epoch 9/50\n",
            "32/32 [==============================] - 11s 333ms/step - loss: 0.2610 - accuracy: 0.9082 - val_loss: 0.2529 - val_accuracy: 0.8977\n",
            "Epoch 10/50\n",
            "32/32 [==============================] - 11s 334ms/step - loss: 0.2411 - accuracy: 0.9202 - val_loss: 0.4244 - val_accuracy: 0.8011\n",
            "Epoch 11/50\n",
            "32/32 [==============================] - 11s 332ms/step - loss: 0.2628 - accuracy: 0.8962 - val_loss: 0.2344 - val_accuracy: 0.8920\n",
            "Epoch 12/50\n",
            "32/32 [==============================] - 11s 333ms/step - loss: 0.2584 - accuracy: 0.8982 - val_loss: 0.2408 - val_accuracy: 0.8977\n",
            "Epoch 13/50\n",
            "32/32 [==============================] - 11s 334ms/step - loss: 0.2295 - accuracy: 0.9002 - val_loss: 0.1858 - val_accuracy: 0.9261\n",
            "Epoch 14/50\n",
            "32/32 [==============================] - 10s 328ms/step - loss: 0.2141 - accuracy: 0.9062 - val_loss: 0.2159 - val_accuracy: 0.9034\n",
            "Epoch 15/50\n",
            "32/32 [==============================] - 11s 330ms/step - loss: 0.2182 - accuracy: 0.9122 - val_loss: 0.2120 - val_accuracy: 0.9148\n",
            "Epoch 16/50\n",
            "32/32 [==============================] - 11s 328ms/step - loss: 0.2328 - accuracy: 0.9102 - val_loss: 0.2233 - val_accuracy: 0.9261\n",
            "Epoch 17/50\n",
            "32/32 [==============================] - 10s 326ms/step - loss: 0.2118 - accuracy: 0.9301 - val_loss: 0.3451 - val_accuracy: 0.8409\n",
            "Epoch 18/50\n",
            "32/32 [==============================] - 11s 328ms/step - loss: 0.2389 - accuracy: 0.9102 - val_loss: 0.3200 - val_accuracy: 0.8693\n",
            "Epoch 19/50\n",
            "32/32 [==============================] - 10s 327ms/step - loss: 0.1803 - accuracy: 0.9341 - val_loss: 0.4522 - val_accuracy: 0.8125\n",
            "Epoch 20/50\n",
            "32/32 [==============================] - 10s 325ms/step - loss: 0.2148 - accuracy: 0.9202 - val_loss: 0.1975 - val_accuracy: 0.9205\n",
            "Epoch 21/50\n",
            "32/32 [==============================] - 10s 326ms/step - loss: 0.2187 - accuracy: 0.9082 - val_loss: 0.3759 - val_accuracy: 0.8977\n",
            "Epoch 22/50\n",
            "32/32 [==============================] - 11s 330ms/step - loss: 0.2417 - accuracy: 0.9102 - val_loss: 0.2351 - val_accuracy: 0.8977\n",
            "Epoch 23/50\n",
            "32/32 [==============================] - 11s 337ms/step - loss: 0.2027 - accuracy: 0.9162 - val_loss: 0.2232 - val_accuracy: 0.9205\n",
            "Epoch 24/50\n",
            "32/32 [==============================] - 10s 324ms/step - loss: 0.2931 - accuracy: 0.8743 - val_loss: 0.2214 - val_accuracy: 0.9034\n",
            "Epoch 25/50\n",
            "32/32 [==============================] - 10s 325ms/step - loss: 0.2173 - accuracy: 0.9082 - val_loss: 0.3184 - val_accuracy: 0.8693\n",
            "Epoch 26/50\n",
            "32/32 [==============================] - 11s 330ms/step - loss: 0.1933 - accuracy: 0.9238 - val_loss: 0.3801 - val_accuracy: 0.8409\n",
            "Epoch 27/50\n",
            "32/32 [==============================] - 10s 325ms/step - loss: 0.1786 - accuracy: 0.9341 - val_loss: 0.1771 - val_accuracy: 0.9205\n",
            "Epoch 28/50\n",
            "32/32 [==============================] - 10s 326ms/step - loss: 0.1689 - accuracy: 0.9341 - val_loss: 0.2172 - val_accuracy: 0.9034\n",
            "Epoch 29/50\n",
            "32/32 [==============================] - 10s 324ms/step - loss: 0.2257 - accuracy: 0.9162 - val_loss: 0.2148 - val_accuracy: 0.8977\n",
            "Epoch 30/50\n",
            "32/32 [==============================] - 11s 329ms/step - loss: 0.2922 - accuracy: 0.8663 - val_loss: 0.1873 - val_accuracy: 0.9432\n",
            "Epoch 31/50\n",
            "32/32 [==============================] - 10s 325ms/step - loss: 0.1976 - accuracy: 0.9162 - val_loss: 0.4425 - val_accuracy: 0.8068\n",
            "Epoch 32/50\n",
            "32/32 [==============================] - 10s 325ms/step - loss: 0.1802 - accuracy: 0.9301 - val_loss: 0.2274 - val_accuracy: 0.9034\n",
            "Epoch 33/50\n",
            "32/32 [==============================] - 10s 325ms/step - loss: 0.1473 - accuracy: 0.9301 - val_loss: 0.3586 - val_accuracy: 0.8636\n",
            "Epoch 34/50\n",
            "32/32 [==============================] - 10s 326ms/step - loss: 0.2186 - accuracy: 0.9142 - val_loss: 0.2871 - val_accuracy: 0.8807\n",
            "Epoch 35/50\n",
            "32/32 [==============================] - 10s 325ms/step - loss: 0.2075 - accuracy: 0.9102 - val_loss: 0.2397 - val_accuracy: 0.8920\n",
            "Epoch 36/50\n",
            "32/32 [==============================] - 10s 324ms/step - loss: 0.1519 - accuracy: 0.9481 - val_loss: 0.2345 - val_accuracy: 0.8977\n",
            "Epoch 37/50\n",
            "32/32 [==============================] - 10s 328ms/step - loss: 0.1530 - accuracy: 0.9381 - val_loss: 0.2296 - val_accuracy: 0.8977\n",
            "Epoch 38/50\n",
            "32/32 [==============================] - 10s 326ms/step - loss: 0.1669 - accuracy: 0.9261 - val_loss: 0.2958 - val_accuracy: 0.8523\n",
            "Epoch 39/50\n",
            "32/32 [==============================] - 11s 328ms/step - loss: 0.1898 - accuracy: 0.9222 - val_loss: 0.1749 - val_accuracy: 0.9261\n",
            "Epoch 40/50\n",
            "32/32 [==============================] - 11s 329ms/step - loss: 0.1833 - accuracy: 0.9242 - val_loss: 0.1699 - val_accuracy: 0.9205\n",
            "Epoch 41/50\n",
            "32/32 [==============================] - 10s 325ms/step - loss: 0.1859 - accuracy: 0.9242 - val_loss: 0.2665 - val_accuracy: 0.8864\n",
            "Epoch 42/50\n",
            "32/32 [==============================] - 10s 327ms/step - loss: 0.1447 - accuracy: 0.9461 - val_loss: 0.2537 - val_accuracy: 0.9034\n",
            "Epoch 43/50\n",
            "32/32 [==============================] - 11s 329ms/step - loss: 0.1395 - accuracy: 0.9541 - val_loss: 0.2554 - val_accuracy: 0.8977\n",
            "Epoch 44/50\n",
            "32/32 [==============================] - 11s 330ms/step - loss: 0.1584 - accuracy: 0.9321 - val_loss: 0.2919 - val_accuracy: 0.8636\n",
            "Epoch 45/50\n",
            "32/32 [==============================] - 11s 335ms/step - loss: 0.1399 - accuracy: 0.9461 - val_loss: 0.1995 - val_accuracy: 0.9205\n",
            "Epoch 46/50\n",
            "32/32 [==============================] - 10s 328ms/step - loss: 0.1293 - accuracy: 0.9441 - val_loss: 0.2678 - val_accuracy: 0.8864\n",
            "Epoch 47/50\n",
            "32/32 [==============================] - 10s 325ms/step - loss: 0.1255 - accuracy: 0.9621 - val_loss: 0.2582 - val_accuracy: 0.8864\n",
            "Epoch 48/50\n",
            "32/32 [==============================] - 10s 327ms/step - loss: 0.1510 - accuracy: 0.9381 - val_loss: 0.2755 - val_accuracy: 0.8750\n",
            "Epoch 49/50\n",
            "32/32 [==============================] - 10s 325ms/step - loss: 0.1445 - accuracy: 0.9441 - val_loss: 0.2167 - val_accuracy: 0.9034\n",
            "Epoch 50/50\n",
            "32/32 [==============================] - 10s 327ms/step - loss: 0.1854 - accuracy: 0.9182 - val_loss: 0.2566 - val_accuracy: 0.9091\n"
          ],
          "name": "stdout"
        }
      ]
    },
    {
      "cell_type": "code",
      "metadata": {
        "id": "I7FC2bpJgQ5Q",
        "colab_type": "code",
        "colab": {
          "base_uri": "https://localhost:8080/",
          "height": 295
        },
        "outputId": "c72c307f-0409-4657-89e2-64d817bad360"
      },
      "source": [
        "# Plot training & validation accuracy values\n",
        "plt.plot(history.history['accuracy'])\n",
        "plt.plot(history.history['val_accuracy'])\n",
        "plt.title('Model Accuracy')\n",
        "plt.ylabel('Accuracy')\n",
        "plt.xlabel('Epoch')\n",
        "plt.legend(['Train', 'Valiation'], loc='lower right')\n",
        "plt.show();"
      ],
      "execution_count": 58,
      "outputs": [
        {
          "output_type": "display_data",
          "data": {
            "image/png": "[encoded data removed]",
            "text/plain": [
              "<Figure size 432x288 with 1 Axes>"
            ]
          },
          "metadata": {
            "tags": [],
            "needs_background": "light"
          }
        }
      ]
    },
    {
      "cell_type": "markdown",
      "metadata": {
        "colab_type": "text",
        "id": "uT3UV3gap9H6"
      },
      "source": [
        "# Resources and Stretch Goals\n",
        "\n",
        "Stretch goals\n",
        "- Enhance your code to use classes/functions and accept terms to search and classes to look for in recognizing the downloaded images (e.g. download images of parties, recognize all that contain balloons)\n",
        "- Check out [other available pretrained networks](https://tfhub.dev), try some and compare\n",
        "- Image recognition/classification is somewhat solved, but *relationships* between entities and describing an image is not - check out some of the extended resources (e.g. [Visual Genome](https://visualgenome.org/)) on the topic\n",
        "- Transfer learning - using images you source yourself, [retrain a classifier](https://www.tensorflow.org/hub/tutorials/image_retraining) with a new category\n",
        "- (Not CNN related) Use [piexif](https://pypi.org/project/piexif/) to check out the metadata of images passed in to your system - see if they're from a national park! (Note - many images lack GPS metadata, so this won't work in most cases, but still cool)\n",
        "\n",
        "Resources\n",
        "- [Deep Residual Learning for Image Recognition](https://arxiv.org/abs/1512.03385) - influential paper (introduced ResNet)\n",
        "- [YOLO: Real-Time Object Detection](https://pjreddie.com/darknet/yolo/) - an influential convolution based object detection system, focused on inference speed (for applications to e.g. self driving vehicles)\n",
        "- [R-CNN, Fast R-CNN, Faster R-CNN, YOLO](https://towardsdatascience.com/r-cnn-fast-r-cnn-faster-r-cnn-yolo-object-detection-algorithms-36d53571365e) - comparison of object detection systems\n",
        "- [Common Objects in Context](http://cocodataset.org/) - a large-scale object detection, segmentation, and captioning dataset\n",
        "- [Visual Genome](https://visualgenome.org/) - a dataset, a knowledge base, an ongoing effort to connect structured image concepts to language"
      ]
    }
  ]
}